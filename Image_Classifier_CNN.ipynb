{
 "cells": [
  {
   "cell_type": "markdown",
   "metadata": {
    "id": "MRK7pin_tS6w"
   },
   "source": [
    "### Helper Functions"
   ]
  },
  {
   "cell_type": "markdown",
   "metadata": {
    "id": "AdZ5JRzitS7G"
   },
   "source": [
    "### Data Processing "
   ]
  },
  {
   "cell_type": "code",
   "execution_count": 3,
   "metadata": {
    "colab": {
     "base_uri": "https://localhost:8080/"
    },
    "id": "cXDNGLhytS7H",
    "outputId": "d6f6f86b-08eb-4a13-f7df-0bbdca7aaebe"
   },
   "outputs": [
    {
     "name": "stdout",
     "output_type": "stream",
     "text": [
      "Downloading https://www.cs.toronto.edu/~kriz/cifar-10-python.tar.gz to ./data/cifar-10-python.tar.gz\n"
     ]
    },
    {
     "name": "stderr",
     "output_type": "stream",
     "text": [
      "100%|████████████████████████████████████████| 170M/170M [00:05<00:00, 32.7MB/s]\n"
     ]
    },
    {
     "name": "stdout",
     "output_type": "stream",
     "text": [
      "Extracting ./data/cifar-10-python.tar.gz to ./data\n",
      "Files already downloaded and verified\n",
      "Number of training samples:  15000 Number of validation samples:  5000 Number of test samples:  5000\n"
     ]
    }
   ],
   "source": [
    "# load cifar10 dataset\n",
    "\n",
    "# Define a transform to preprocess the data\n",
    "transform = transforms.Compose([\n",
    "    transforms.ToTensor(), # Convert images to PyTorch tensors\n",
    "    transforms.Normalize((0.5, 0.5, 0.5), (0.5, 0.5, 0.5)) # Normalize the images\n",
    "])\n",
    "\n",
    "# Load CIFAR-10 training data\n",
    "dataset = datasets.CIFAR10(root='./data', train=True, download=True, transform=transform)\n",
    "\n",
    "desired_train_size = 15000\n",
    "desired_val_size = 5000\n",
    "desired_test_size = 5000\n",
    "\n",
    "train_dataset = Subset(dataset, range(int(desired_train_size)))\n",
    "val_dataset = Subset(dataset, range(int(desired_train_size),int(desired_train_size+desired_val_size)))\n",
    "\n",
    "# Since the transform is already applied to the datasets, we can directly use them to create DataLoaders\n",
    "train_loader = DataLoader(train_dataset, batch_size=64, shuffle=True)\n",
    "val_loader = DataLoader(val_dataset, batch_size=64, shuffle=False)\n",
    "\n",
    "# Load CIFAR-10 test data\n",
    "test_dataset = datasets.CIFAR10(root='./data', train=False, download=True, transform=transform)\n",
    "test_dataset = Subset(test_dataset, range(int(desired_test_size)))\n",
    "\n",
    "# Create DataLoader for test data\n",
    "test_loader = DataLoader(test_dataset, batch_size=64, shuffle=False)\n",
    "\n",
    "# Now, train_loader and test_loader can be used in your training and testing loops.\n",
    "print(\"Number of training samples: \", len(train_dataset), \"Number of validation samples: \", len(val_dataset), \"Number of test samples: \", len(test_dataset))"
   ]
  },
  {
   "cell_type": "markdown",
   "metadata": {
    "id": "VG5e0fRYtS7L"
   },
   "source": [
    "#### Build three hidden layer fully connected net without batchnormalization and residual layers or blocks"
   ]
  },
  {
   "cell_type": "code",
   "execution_count": 5,
   "metadata": {},
   "outputs": [],
   "source": [
    "#Define the simple network\n",
    "\n",
    "class FullyConnectedNN(nn.Module):\n",
    "    def __init__(self, input_size=3*32*32, hidden_sizes=[512, 256, 128], output_size=10):\n",
    "        super(FullyConnectedNN, self).__init__()\n",
    "        self.flatten = nn.Flatten()\n",
    "        self.fc1 = nn.Linear(input_size, hidden_sizes[0])\n",
    "        self.fc2 = nn.Linear(hidden_sizes[0], hidden_sizes[1])\n",
    "        self.fc3 = nn.Linear(hidden_sizes[1], hidden_sizes[2])\n",
    "        self.output = nn.Linear(hidden_sizes[2], output_size)\n",
    "\n",
    "    def forward(self, x):\n",
    "        x = self.flatten(x)\n",
    "        x = F.relu(self.fc1(x))\n",
    "        x = F.relu(self.fc2(x))\n",
    "        x = F.relu(self.fc3(x))\n",
    "        x = self.output(x)  # No softmax, since CrossEntropyLoss applies it internally\n",
    "        return x"
   ]
  },
  {
   "cell_type": "code",
   "execution_count": 7,
   "metadata": {},
   "outputs": [],
   "source": [
    "# Initialize the model\n",
    "model = FullyConnectedNN()"
   ]
  },
  {
   "cell_type": "code",
   "execution_count": 9,
   "metadata": {},
   "outputs": [
    {
     "name": "stdout",
     "output_type": "stream",
     "text": [
      "Epoch  1,  Training Loss:  114.6865, Training Accuracy:     43.71,  Val Accuracy:   39.82\n",
      "Epoch  2,  Training Loss:  100.7081, Training Accuracy:     48.97,  Val Accuracy:   43.38\n",
      "Epoch  3,  Training Loss:   92.5169, Training Accuracy:     52.75,  Val Accuracy:   44.48\n",
      "Epoch  4,  Training Loss:   85.4277, Training Accuracy:     57.40,  Val Accuracy:   45.38\n",
      "Epoch  5,  Training Loss:   78.4832, Training Accuracy:     61.99,  Val Accuracy:   45.84\n",
      "Epoch  6,  Training Loss:   70.7350, Training Accuracy:     64.65,  Val Accuracy:   46.28\n",
      "Epoch  7,  Training Loss:   65.1481, Training Accuracy:     70.49,  Val Accuracy:   47.28\n",
      "Epoch  8,  Training Loss:   56.5926, Training Accuracy:     76.16,  Val Accuracy:   47.46\n",
      "Epoch  9,  Training Loss:   50.6857, Training Accuracy:     78.71,  Val Accuracy:   46.72\n",
      "Epoch 10,  Training Loss:   43.8013, Training Accuracy:     79.88,  Val Accuracy:   47.20\n",
      "Elapsed Time :   33.06\n"
     ]
    }
   ],
   "source": [
    "# Define the loss function and optimizer\n",
    "loss_function = nn.CrossEntropyLoss()\n",
    "optimizer = torch.optim.Adam(model.parameters(), lr=0.001)\n",
    "\n",
    "# Train the model\n",
    "train_loss_log, train_acc_log, val_acc_log = train_model(\n",
    "    model, loss_function, num_epochs=10, optimizer=optimizer, train_loader=train_loader, val_loader=val_loader\n",
    ")"
   ]
  },
  {
   "cell_type": "code",
   "execution_count": 11,
   "metadata": {},
   "outputs": [
    {
     "name": "stdout",
     "output_type": "stream",
     "text": [
      "Test Accuracy: 47.56%\n"
     ]
    }
   ],
   "source": [
    "# Evaluate on the test set\n",
    "test_accuracy = calculate_accuracy(test_loader, model)\n",
    "print(f\"Test Accuracy: {test_accuracy:.2f}%\")"
   ]
  },
  {
   "cell_type": "markdown",
   "metadata": {},
   "source": [
    "##### Final Model Description:\n",
    "The model I chose is a fully connected neural network (FCNN) designed to classify images based on their pixel data. \n",
    "The architecture of the network is as follows:\n",
    "\n",
    "Input Layer: The model takes a 3 × 32 × 32 image as input, which is first flattened into a 1D vector of size 3072 (3 channels × 32 × 32 pixels).\n",
    "\n",
    "Hidden Layers: The network consists of three fully connected layers with the following number of neurons:\n",
    "\n",
    "The first hidden layer has 512 neurons.\n",
    "The second hidden layer has 256 neurons.\n",
    "The third hidden layer has 128 neurons.\n",
    "\n",
    "Each of these layers is followed by the ReLU (Rectified Linear Unit) activation function, which introduces non-linearity to the model and enables it to learn more complex patterns in the data.\n",
    "\n",
    "Output Layer: The output layer consists of 10 neurons, corresponding to the 10 possible image classes. I used the CrossEntropyLoss function for training, which combines the softmax activation function and the negative log-likelihood loss. This means that the model does not need an explicit softmax layer in the output.\n",
    "\n",
    "\n",
    "##### Training and Decision-Making Process:\n",
    "Choice of Activation Function: I chose ReLU activation for all hidden layers because it is computationally efficient and helps mitigate the vanishing gradient problem. It is a common choice in many deep learning models for image classification tasks.\n",
    "\n",
    "Optimizer: I used the Adam optimizer with a learning rate of 0.001. Adam is widely used because it adapts the learning rate for each parameter, which helps the model converge faster and more effectively. I chose 0.001 as it is a typical starting point for many models. However, further tuning of the learning rate could potentially improve performance.\n",
    "\n",
    "Loss Function: The CrossEntropyLoss was used, which is suitable for multi-class classification problems. This loss function combines the softmax activation and the cross-entropy loss, making it ideal for this task as it works well with the output layer configuration.\n",
    "\n",
    "Model Evaluation and Hyperparameter Tuning: I performed training for 10 epochs and used the validation set to tune hyperparameters such as the learning rate and number of neurons in each layer. The model's performance was monitored using accuracy on the validation set, and adjustments were made to improve it.\n",
    "\n",
    "Model Complexity: The model was kept relatively simple, consisting only of fully connected layers, as the task involves classifying images with a limited computational budget. While more complex architectures, such as convolutional neural networks (CNNs), might perform better, this basic FCNN provides a good starting point for comparison.\n",
    "\n",
    "\n",
    "##### Test Set Accuracy:\n",
    "After training the model for 10 epochs, the final model achieved an accuracy of 47.56% on the test set. This is a reasonable starting point for a simple fully connected neural network, especially given that the dataset consists of images. The accuracy could potentially be improved by exploring more complex architectures or using techniques such as regularization, data augmentation, or tuning the model's hyperparameters further."
   ]
  },
  {
   "cell_type": "markdown",
   "metadata": {
    "id": "NkpWE7UitS7U"
   },
   "source": [
    "#### Implement the CNN model described in the template (note that there are no activation functions and no max pooling in the convolutional block)."
   ]
  },
  {
   "cell_type": "code",
   "execution_count": 13,
   "metadata": {
    "id": "GJ-cTmbzTSBV"
   },
   "outputs": [],
   "source": [
    "class CNN_Model_A(nn.Module):\n",
    "    def __init__(self):\n",
    "        super(CNN_Model_A, self).__init__()\n",
    "        self.conv1 = nn.Conv2d(in_channels=3, out_channels=32, kernel_size=3, stride=1, padding=1)\n",
    "        self.conv2 = nn.Conv2d(in_channels=32, out_channels=64, kernel_size=3, stride=1, padding=1)\n",
    "        self.flatten = nn.Flatten()\n",
    "        self.fc1 = nn.Linear(64 * 32 * 32, 256)\n",
    "        self.fc2 = nn.Linear(256, 128)\n",
    "        self.fc3 = nn.Linear(128, 10)\n",
    "    \n",
    "    def forward(self, x):\n",
    "        x = self.conv1(x)  # No activation function\n",
    "        x = self.conv2(x)  # No activation function\n",
    "        x = self.flatten(x)\n",
    "        x = F.relu(self.fc1(x))  # First FC layer with ReLU\n",
    "        x = F.relu(self.fc2(x))  # Second FC layer with ReLU\n",
    "        x = self.fc3(x)  # Output layer\n",
    "        return x"
   ]
  },
  {
   "cell_type": "code",
   "execution_count": 15,
   "metadata": {},
   "outputs": [
    {
     "name": "stdout",
     "output_type": "stream",
     "text": [
      "Number of trainable parameters: 16831050\n"
     ]
    }
   ],
   "source": [
    "# Initialize model\n",
    "model_a = CNN_Model_A()\n",
    "\n",
    "# Count parameters\n",
    "num_params = count_parameters(model_a)\n",
    "print(f\"Number of trainable parameters: {num_params}\")"
   ]
  },
  {
   "cell_type": "code",
   "execution_count": 19,
   "metadata": {},
   "outputs": [],
   "source": [
    "import torch.optim as optim\n",
    "\n",
    "# Define loss function and optimizer\n",
    "criterion = nn.CrossEntropyLoss()\n",
    "optimizer = optim.Adam(model_a.parameters(), lr=0.001)"
   ]
  },
  {
   "cell_type": "code",
   "execution_count": 21,
   "metadata": {},
   "outputs": [
    {
     "name": "stdout",
     "output_type": "stream",
     "text": [
      "Epoch  1,  Training Loss:  112.4414, Training Accuracy:     50.44,  Val Accuracy:   42.94\n",
      "Epoch  2,  Training Loss:   91.9796, Training Accuracy:     62.46,  Val Accuracy:   46.24\n",
      "Epoch  3,  Training Loss:   72.7253, Training Accuracy:     75.46,  Val Accuracy:   46.26\n",
      "Epoch  4,  Training Loss:   50.2863, Training Accuracy:     85.43,  Val Accuracy:   43.82\n",
      "Epoch  5,  Training Loss:   31.9266, Training Accuracy:     91.61,  Val Accuracy:   43.50\n",
      "Epoch  6,  Training Loss:   18.9371, Training Accuracy:     92.97,  Val Accuracy:   41.16\n",
      "Epoch  7,  Training Loss:   15.5513, Training Accuracy:     95.15,  Val Accuracy:   42.08\n",
      "Epoch  8,  Training Loss:   12.1472, Training Accuracy:     95.12,  Val Accuracy:   41.10\n",
      "Epoch  9,  Training Loss:    8.8335, Training Accuracy:     97.56,  Val Accuracy:   42.30\n",
      "Epoch 10,  Training Loss:    7.5536, Training Accuracy:     96.23,  Val Accuracy:   41.60\n",
      "Elapsed Time :  381.22\n"
     ]
    }
   ],
   "source": [
    "# Train the model\n",
    "train_loss_log, train_acc_log, test_acc_log = train_model(model_a, criterion, num_epochs=10, optimizer=optimizer, train_loader=train_loader, val_loader=val_loader)"
   ]
  },
  {
   "cell_type": "code",
   "execution_count": 23,
   "metadata": {},
   "outputs": [
    {
     "name": "stdout",
     "output_type": "stream",
     "text": [
      "Test Accuracy: 43.66%\n"
     ]
    }
   ],
   "source": [
    "# Evaluate on test set\n",
    "test_accuracy = calculate_accuracy(test_loader, model_a)\n",
    "print(f\"Test Accuracy: {test_accuracy:.2f}%\")"
   ]
  },
  {
   "cell_type": "markdown",
   "metadata": {
    "id": "4cJbvCWMtS7Z"
   },
   "source": [
    "#### Add max pooling with window size 2 to the convolutional block, i.e., the Convolution Layers become Convolution-Pool Layers."
   ]
  },
  {
   "cell_type": "code",
   "execution_count": 25,
   "metadata": {
    "id": "kYb2BY4ATRfr"
   },
   "outputs": [],
   "source": [
    "class CNNWithMaxPooling(nn.Module):\n",
    "    def __init__(self):\n",
    "        super(CNNWithMaxPooling, self).__init__()\n",
    "        self.conv1 = nn.Conv2d(3, 32, kernel_size=3, stride=1, padding=1)  # Convolution Layer 1\n",
    "        self.pool1 = nn.MaxPool2d(kernel_size=2, stride=2)  # Max Pooling Layer 1\n",
    "        self.conv2 = nn.Conv2d(32, 64, kernel_size=3, stride=1, padding=1)  # Convolution Layer 2\n",
    "        self.pool2 = nn.MaxPool2d(kernel_size=2, stride=2)  # Max Pooling Layer 2\n",
    "        self.fc1 = nn.Linear(64 * 8 * 8, 256)  # Fully Connected Layer 1\n",
    "        self.fc2 = nn.Linear(256, 128)  # Fully Connected Layer 2\n",
    "        self.fc3 = nn.Linear(128, 10)  # Output Layer\n",
    "\n",
    "    def forward(self, x):\n",
    "        x = self.pool1(F.relu(self.conv1(x)))  # Apply conv1, then max pooling\n",
    "        x = self.pool2(F.relu(self.conv2(x)))  # Apply conv2, then max pooling\n",
    "        x = x.view(-1, 64 * 8 * 8)  # Flatten the output from convolutional layers\n",
    "        x = F.relu(self.fc1(x))  # Fully connected layer 1\n",
    "        x = F.relu(self.fc2(x))  # Fully connected layer 2\n",
    "        x = self.fc3(x)  # Output layer (no activation, CrossEntropyLoss handles softmax)\n",
    "        return x"
   ]
  },
  {
   "cell_type": "code",
   "execution_count": 27,
   "metadata": {},
   "outputs": [
    {
     "name": "stdout",
     "output_type": "stream",
     "text": [
      "Number of trainable parameters: 1102410\n"
     ]
    }
   ],
   "source": [
    "# Instantiate the model\n",
    "model_with_pooling = CNNWithMaxPooling()\n",
    "\n",
    "# Count the parameters in the updated model\n",
    "print(\"Number of trainable parameters:\", count_parameters(model_with_pooling))"
   ]
  },
  {
   "cell_type": "code",
   "execution_count": 31,
   "metadata": {},
   "outputs": [],
   "source": [
    "# Define loss function and optimizer\n",
    "criterion = nn.CrossEntropyLoss()\n",
    "optimizer = optim.Adam(model_with_pooling.parameters(), lr=0.001)"
   ]
  },
  {
   "cell_type": "code",
   "execution_count": 33,
   "metadata": {},
   "outputs": [
    {
     "name": "stdout",
     "output_type": "stream",
     "text": [
      "Epoch  1,  Training Loss:  107.6835, Training Accuracy:     48.17,  Val Accuracy:   46.22\n",
      "Epoch  2,  Training Loss:   82.7493, Training Accuracy:     57.60,  Val Accuracy:   53.76\n",
      "Epoch  3,  Training Loss:   70.3006, Training Accuracy:     66.43,  Val Accuracy:   59.54\n",
      "Epoch  4,  Training Loss:   60.5492, Training Accuracy:     72.21,  Val Accuracy:   61.16\n",
      "Epoch  5,  Training Loss:   50.7103, Training Accuracy:     77.16,  Val Accuracy:   63.38\n",
      "Epoch  6,  Training Loss:   41.5506, Training Accuracy:     84.69,  Val Accuracy:   64.84\n",
      "Epoch  7,  Training Loss:   31.6887, Training Accuracy:     88.31,  Val Accuracy:   64.88\n",
      "Epoch  8,  Training Loss:   23.1578, Training Accuracy:     91.67,  Val Accuracy:   65.60\n",
      "Epoch  9,  Training Loss:   15.6103, Training Accuracy:     95.50,  Val Accuracy:   65.16\n",
      "Epoch 10,  Training Loss:    9.9502, Training Accuracy:     96.85,  Val Accuracy:   64.26\n",
      "Elapsed Time :  132.80\n"
     ]
    }
   ],
   "source": [
    "# Train the model\n",
    "train_loss_log, train_acc_log, test_acc_log = train_model(model_with_pooling, criterion, num_epochs=10, \n",
    "                                                          optimizer=optimizer, train_loader=train_loader, val_loader=val_loader)"
   ]
  },
  {
   "cell_type": "code",
   "execution_count": 35,
   "metadata": {},
   "outputs": [
    {
     "name": "stdout",
     "output_type": "stream",
     "text": [
      "Test Accuracy: 64.20%\n"
     ]
    }
   ],
   "source": [
    "# Evaluate on test set\n",
    "test_accuracy = calculate_accuracy(test_loader, model_with_pooling)\n",
    "print(f\"Test Accuracy: {test_accuracy:.2f}%\")"
   ]
  },
  {
   "cell_type": "markdown",
   "metadata": {
    "id": "mjpdYMZZu6MY"
   },
   "source": [
    "#### Remove max pooling and add ReLU activations to the convolutional block, i.e., the Convolution Layers become Convolution-Activation Layers."
   ]
  },
  {
   "cell_type": "code",
   "execution_count": 37,
   "metadata": {
    "id": "zTQ8ULRdTQ_P"
   },
   "outputs": [],
   "source": [
    "class CNNWithReLUActivation(nn.Module):\n",
    "    def __init__(self):\n",
    "        super(CNNWithReLUActivation, self).__init__()\n",
    "        self.conv1 = nn.Conv2d(3, 32, kernel_size=3, stride=1, padding=1)  # Convolution Layer 1\n",
    "        self.relu1 = nn.ReLU()  # ReLU Activation Layer 1\n",
    "        self.conv2 = nn.Conv2d(32, 64, kernel_size=3, stride=1, padding=1)  # Convolution Layer 2\n",
    "        self.relu2 = nn.ReLU()  # ReLU Activation Layer 2\n",
    "        self.fc1 = nn.Linear(64 * 32 * 32, 256)  # Fully Connected Layer 1\n",
    "        self.fc2 = nn.Linear(256, 128)  # Fully Connected Layer 2\n",
    "        self.fc3 = nn.Linear(128, 10)  # Output Layer\n",
    "\n",
    "    def forward(self, x):\n",
    "        x = self.relu1(self.conv1(x))  # Apply conv1 followed by ReLU activation\n",
    "        x = self.relu2(self.conv2(x))  # Apply conv2 followed by ReLU activation\n",
    "        x = x.view(-1, 64 * 32 * 32)  # Flatten the output from convolutional layers\n",
    "        x = F.relu(self.fc1(x))  # Fully connected layer 1 with ReLU activation\n",
    "        x = F.relu(self.fc2(x))  # Fully connected layer 2 with ReLU activation\n",
    "        x = self.fc3(x)  # Output layer (no activation, CrossEntropyLoss handles softmax)\n",
    "        return x"
   ]
  },
  {
   "cell_type": "code",
   "execution_count": 39,
   "metadata": {},
   "outputs": [
    {
     "name": "stdout",
     "output_type": "stream",
     "text": [
      "Number of trainable parameters: 16831050\n"
     ]
    }
   ],
   "source": [
    "# Instantiate the model\n",
    "model_with_relu = CNNWithReLUActivation()\n",
    "\n",
    "# Count the parameters in the updated model\n",
    "print(\"Number of trainable parameters:\", count_parameters(model_with_relu))"
   ]
  },
  {
   "cell_type": "code",
   "execution_count": 41,
   "metadata": {},
   "outputs": [],
   "source": [
    "# Define loss function and optimizer\n",
    "criterion = nn.CrossEntropyLoss()\n",
    "optimizer = optim.Adam(model_with_relu.parameters(), lr=0.001)"
   ]
  },
  {
   "cell_type": "code",
   "execution_count": 43,
   "metadata": {},
   "outputs": [
    {
     "name": "stdout",
     "output_type": "stream",
     "text": [
      "Epoch  1,  Training Loss:  102.7794, Training Accuracy:     54.68,  Val Accuracy:   49.56\n",
      "Epoch  2,  Training Loss:   73.5277, Training Accuracy:     71.29,  Val Accuracy:   57.60\n",
      "Epoch  3,  Training Loss:   52.9434, Training Accuracy:     83.65,  Val Accuracy:   59.22\n",
      "Epoch  4,  Training Loss:   30.8211, Training Accuracy:     94.12,  Val Accuracy:   60.28\n",
      "Epoch  5,  Training Loss:   13.1017, Training Accuracy:     97.35,  Val Accuracy:   58.28\n",
      "Epoch  6,  Training Loss:    5.2016, Training Accuracy:     98.60,  Val Accuracy:   59.34\n",
      "Epoch  7,  Training Loss:    2.9643, Training Accuracy:     99.45,  Val Accuracy:   60.30\n",
      "Epoch  8,  Training Loss:    2.0152, Training Accuracy:     99.09,  Val Accuracy:   59.04\n",
      "Epoch  9,  Training Loss:    2.8730, Training Accuracy:     99.07,  Val Accuracy:   57.80\n",
      "Epoch 10,  Training Loss:    2.9769, Training Accuracy:     99.29,  Val Accuracy:   59.28\n",
      "Elapsed Time :  394.17\n"
     ]
    }
   ],
   "source": [
    "# Train the model\n",
    "train_loss_log, train_acc_log, test_acc_log = train_model(model_with_relu, criterion, num_epochs=10, \n",
    "                                                          optimizer=optimizer, train_loader=train_loader, val_loader=val_loader)"
   ]
  },
  {
   "cell_type": "code",
   "execution_count": 45,
   "metadata": {},
   "outputs": [
    {
     "name": "stdout",
     "output_type": "stream",
     "text": [
      "Test Accuracy: 58.88%\n"
     ]
    }
   ],
   "source": [
    "# Evaluate on test set\n",
    "test_accuracy = calculate_accuracy(test_loader, model_with_relu)\n",
    "print(f\"Test Accuracy: {test_accuracy:.2f}%\")"
   ]
  },
  {
   "cell_type": "markdown",
   "metadata": {
    "id": "oNd5q2Afu6Mb"
   },
   "source": [
    "#### Add ReLU activations and max pooling with window size 2 to the convolutional block, i.e., the Convolution Layers become Convolution-Activation-Pool Layers."
   ]
  },
  {
   "cell_type": "code",
   "execution_count": 47,
   "metadata": {
    "id": "1XrDo1RaTVMD"
   },
   "outputs": [],
   "source": [
    "class CNNWithReLUAndPooling(nn.Module):\n",
    "    def __init__(self):\n",
    "        super(CNNWithReLUAndPooling, self).__init__()\n",
    "        self.conv1 = nn.Conv2d(3, 32, kernel_size=3, stride=1, padding=1)  # Convolution Layer 1\n",
    "        self.relu1 = nn.ReLU()  # ReLU Activation Layer 1\n",
    "        self.pool1 = nn.MaxPool2d(kernel_size=2, stride=2)  # Max Pooling Layer 1\n",
    "        \n",
    "        self.conv2 = nn.Conv2d(32, 64, kernel_size=3, stride=1, padding=1)  # Convolution Layer 2\n",
    "        self.relu2 = nn.ReLU()  # ReLU Activation Layer 2\n",
    "        self.pool2 = nn.MaxPool2d(kernel_size=2, stride=2)  # Max Pooling Layer 2\n",
    "        \n",
    "        self.fc1 = nn.Linear(64 * 8 * 8, 256)  # Fully Connected Layer 1\n",
    "        self.fc2 = nn.Linear(256, 128)  # Fully Connected Layer 2\n",
    "        self.fc3 = nn.Linear(128, 10)  # Output Layer\n",
    "\n",
    "    def forward(self, x):\n",
    "        x = self.pool1(self.relu1(self.conv1(x)))  # Convolution-Activation-Pool Layer 1\n",
    "        x = self.pool2(self.relu2(self.conv2(x)))  # Convolution-Activation-Pool Layer 2\n",
    "        x = x.view(-1, 64 * 8 * 8)  # Flatten the output from convolutional layers\n",
    "        x = F.relu(self.fc1(x))  # Fully connected layer 1 with ReLU activation\n",
    "        x = F.relu(self.fc2(x))  # Fully connected layer 2 with ReLU activation\n",
    "        x = self.fc3(x)  # Output layer (no activation, CrossEntropyLoss handles softmax)\n",
    "        return x"
   ]
  },
  {
   "cell_type": "code",
   "execution_count": 49,
   "metadata": {},
   "outputs": [
    {
     "name": "stdout",
     "output_type": "stream",
     "text": [
      "Number of trainable parameters: 1102410\n"
     ]
    }
   ],
   "source": [
    "# Instantiate the model\n",
    "model_with_relu_and_pooling = CNNWithReLUAndPooling()\n",
    "\n",
    "# Count the parameters in the updated model\n",
    "print(\"Number of trainable parameters:\", count_parameters(model_with_relu_and_pooling))"
   ]
  },
  {
   "cell_type": "code",
   "execution_count": 51,
   "metadata": {},
   "outputs": [],
   "source": [
    "# Define loss function and optimizer\n",
    "criterion = nn.CrossEntropyLoss()\n",
    "optimizer = optim.Adam(model_with_relu_and_pooling.parameters(), lr=0.001)"
   ]
  },
  {
   "cell_type": "code",
   "execution_count": 53,
   "metadata": {},
   "outputs": [
    {
     "name": "stdout",
     "output_type": "stream",
     "text": [
      "Epoch  1,  Training Loss:  107.3400, Training Accuracy:     49.67,  Val Accuracy:   47.94\n",
      "Epoch  2,  Training Loss:   81.4014, Training Accuracy:     59.15,  Val Accuracy:   54.30\n",
      "Epoch  3,  Training Loss:   69.2943, Training Accuracy:     66.83,  Val Accuracy:   59.98\n",
      "Epoch  4,  Training Loss:   59.3607, Training Accuracy:     74.01,  Val Accuracy:   63.18\n",
      "Epoch  5,  Training Loss:   50.1934, Training Accuracy:     78.03,  Val Accuracy:   63.20\n",
      "Epoch  6,  Training Loss:   41.5096, Training Accuracy:     83.21,  Val Accuracy:   64.76\n",
      "Epoch  7,  Training Loss:   33.6414, Training Accuracy:     84.75,  Val Accuracy:   62.54\n",
      "Epoch  8,  Training Loss:   24.9048, Training Accuracy:     91.43,  Val Accuracy:   64.28\n",
      "Epoch  9,  Training Loss:   17.4234, Training Accuracy:     94.44,  Val Accuracy:   63.72\n",
      "Epoch 10,  Training Loss:   10.9328, Training Accuracy:     95.95,  Val Accuracy:   63.36\n",
      "Elapsed Time :  133.11\n"
     ]
    }
   ],
   "source": [
    "# Train the model\n",
    "train_loss_log, train_acc_log, test_acc_log = train_model(model_with_relu_and_pooling, criterion, num_epochs=10, \n",
    "                                                          optimizer=optimizer, train_loader=train_loader, val_loader=val_loader)"
   ]
  },
  {
   "cell_type": "code",
   "execution_count": 55,
   "metadata": {},
   "outputs": [
    {
     "name": "stdout",
     "output_type": "stream",
     "text": [
      "Test Accuracy: 63.74%\n"
     ]
    }
   ],
   "source": [
    "# Evaluate on test set\n",
    "test_accuracy = calculate_accuracy(test_loader, model_with_relu_and_pooling)\n",
    "print(f\"Test Accuracy: {test_accuracy:.2f}%\")"
   ]
  },
  {
   "cell_type": "markdown",
   "metadata": {
    "id": "aSwTrt6Rxbre"
   },
   "source": [
    "#### Add batch normalization to the previous configuration, i.e., the Convolution Layers become Convolution-BN-Activation-Pool Layers"
   ]
  },
  {
   "cell_type": "code",
   "execution_count": 57,
   "metadata": {
    "id": "F7sZ6q0Bbgf6"
   },
   "outputs": [],
   "source": [
    "class CNNWithBatchNorm(nn.Module):\n",
    "    def __init__(self):\n",
    "        super(CNNWithBatchNorm, self).__init__()\n",
    "        self.conv1 = nn.Conv2d(3, 32, kernel_size=3, stride=1, padding=1)  # Convolution Layer 1\n",
    "        self.bn1 = nn.BatchNorm2d(32)  # Batch Normalization Layer 1\n",
    "        self.relu1 = nn.ReLU()  # ReLU Activation Layer 1\n",
    "        self.pool1 = nn.MaxPool2d(kernel_size=2, stride=2)  # Max Pooling Layer 1\n",
    "        \n",
    "        self.conv2 = nn.Conv2d(32, 64, kernel_size=3, stride=1, padding=1)  # Convolution Layer 2\n",
    "        self.bn2 = nn.BatchNorm2d(64)  # Batch Normalization Layer 2\n",
    "        self.relu2 = nn.ReLU()  # ReLU Activation Layer 2\n",
    "        self.pool2 = nn.MaxPool2d(kernel_size=2, stride=2)  # Max Pooling Layer 2\n",
    "        \n",
    "        self.fc1 = nn.Linear(64 * 8 * 8, 256)  # Fully Connected Layer 1\n",
    "        self.fc2 = nn.Linear(256, 128)  # Fully Connected Layer 2\n",
    "        self.fc3 = nn.Linear(128, 10)  # Output Layer\n",
    "\n",
    "    def forward(self, x):\n",
    "        x = self.pool1(self.relu1(self.bn1(self.conv1(x))))  # Convolution-BN-Activation-Pool Layer 1\n",
    "        x = self.pool2(self.relu2(self.bn2(self.conv2(x))))  # Convolution-BN-Activation-Pool Layer 2\n",
    "        x = x.view(-1, 64 * 8 * 8)  # Flatten the output from convolutional layers\n",
    "        x = F.relu(self.fc1(x))  # Fully connected layer 1 with ReLU activation\n",
    "        x = F.relu(self.fc2(x))  # Fully connected layer 2 with ReLU activation\n",
    "        x = self.fc3(x)  # Output layer (no activation, CrossEntropyLoss handles softmax)\n",
    "        return x"
   ]
  },
  {
   "cell_type": "code",
   "execution_count": 59,
   "metadata": {},
   "outputs": [
    {
     "name": "stdout",
     "output_type": "stream",
     "text": [
      "Number of trainable parameters: 1102602\n"
     ]
    }
   ],
   "source": [
    "# Instantiate the model\n",
    "model_with_bn = CNNWithBatchNorm()\n",
    "\n",
    "# Count the parameters in the updated model\n",
    "print(\"Number of trainable parameters:\", count_parameters(model_with_bn))"
   ]
  },
  {
   "cell_type": "code",
   "execution_count": 61,
   "metadata": {},
   "outputs": [],
   "source": [
    "# Define loss function and optimizer\n",
    "criterion = nn.CrossEntropyLoss()\n",
    "optimizer = optim.Adam(model_with_bn.parameters(), lr=0.001)"
   ]
  },
  {
   "cell_type": "code",
   "execution_count": 63,
   "metadata": {},
   "outputs": [
    {
     "name": "stdout",
     "output_type": "stream",
     "text": [
      "Epoch  1,  Training Loss:   96.9054, Training Accuracy:     56.33,  Val Accuracy:   53.90\n",
      "Epoch  2,  Training Loss:   73.3393, Training Accuracy:     66.67,  Val Accuracy:   60.10\n",
      "Epoch  3,  Training Loss:   60.0944, Training Accuracy:     73.18,  Val Accuracy:   61.80\n",
      "Epoch  4,  Training Loss:   48.2854, Training Accuracy:     76.75,  Val Accuracy:   61.82\n",
      "Epoch  5,  Training Loss:   37.9272, Training Accuracy:     86.86,  Val Accuracy:   64.64\n",
      "Epoch  6,  Training Loss:   27.5675, Training Accuracy:     90.97,  Val Accuracy:   65.68\n",
      "Epoch  7,  Training Loss:   18.8627, Training Accuracy:     92.50,  Val Accuracy:   64.28\n",
      "Epoch  8,  Training Loss:   13.0015, Training Accuracy:     95.35,  Val Accuracy:   63.86\n",
      "Epoch  9,  Training Loss:    8.5718, Training Accuracy:     96.71,  Val Accuracy:   64.10\n",
      "Epoch 10,  Training Loss:    7.1737, Training Accuracy:     98.01,  Val Accuracy:   64.20\n",
      "Elapsed Time :  140.26\n"
     ]
    }
   ],
   "source": [
    "# Train the model\n",
    "train_loss_log, train_acc_log, test_acc_log = train_model(model_with_bn, criterion, num_epochs=10, \n",
    "                                                          optimizer=optimizer, train_loader=train_loader, val_loader=val_loader)"
   ]
  },
  {
   "cell_type": "code",
   "execution_count": 65,
   "metadata": {},
   "outputs": [
    {
     "name": "stdout",
     "output_type": "stream",
     "text": [
      "Test Accuracy: 66.34%\n"
     ]
    }
   ],
   "source": [
    "# Evaluate on test set\n",
    "test_accuracy = calculate_accuracy(test_loader, model_with_bn)\n",
    "print(f\"Test Accuracy: {test_accuracy:.2f}%\")"
   ]
  },
  {
   "cell_type": "markdown",
   "metadata": {
    "id": "_uJVOfilbhyM"
   },
   "source": [
    "##### Summary of Findings from above models\n",
    "From the above sections, I built and evaluated different variations of convolutional neural networks (CNNs) with different configurations. Here's a summary of the accuracies observed and the findings:\n",
    "\n",
    "Without Max Pooling or Activation :\n",
    "\n",
    "Test Accuracy: 43.66%\n",
    "Findings: The baseline CNN without max pooling or activations performed poorly. \n",
    "This is expected, as convolution layers without non-linear activation functions (like ReLU) and without pooling layers (to reduce spatial dimensions) limit the network's ability to learn complex features.\n",
    "\n",
    "With Max Pooling :\n",
    "\n",
    "Test Accuracy: 64.20%\n",
    "Findings: Adding max pooling helped reduce spatial dimensions, making the model more efficient in learning. \n",
    "This showed a substantial improvement in accuracy. Max pooling retains the most important features while reducing computation.\n",
    "\n",
    "With ReLU Activations :\n",
    "\n",
    "Test Accuracy: 58.88%\n",
    "Findings: Adding ReLU activations to the convolutional layers helped introduce non-linearity, allowing the model to learn more complex patterns. However, the accuracy didn't improve significantly because max pooling was missing, leading to inefficient feature extraction.\n",
    "\n",
    "With ReLU Activations and Max Pooling :\n",
    "\n",
    "Test Accuracy: 63.74%\n",
    "Findings: Combining ReLU activations with max pooling resulted in a notable improvement. ReLU allowed the network to model non-linearities, and max pooling ensured the feature maps were reduced in size, leading to faster training and better generalization.\n",
    "\n",
    "With Batch Normalization, ReLU, and Max Pooling :\n",
    "\n",
    "Test Accuracy: 66.34%\n",
    "Findings: The addition of batch normalization was the most beneficial. It stabilized the training process, reduced the internal covariate shift, and allowed the model to converge faster. The resulting model performed the best, as batch normalization prevented exploding/vanishing gradients and provided a regularizing effect."
   ]
  },
  {
   "cell_type": "markdown",
   "metadata": {},
   "source": [
    "##### Final Model Configuration\n",
    "Here’s the architecture I chose for the final CNN model:\n",
    "\n",
    "1. Convolution Layer with 32 output channels, followed by Batch Normalization, ReLU activation, and Max Pooling.\n",
    "2. Convolution Layer with 64 output channels, followed by Batch Normalization, ReLU activation, and Max Pooling.\n",
    "3. Flattening to reshape the output into a vector.\n",
    "4. Fully Connected Layer with 256 hidden nodes and ReLU activation.\n",
    "5. Fully Connected Layer with 128 hidden nodes and ReLU activation.\n",
    "6. Output Layer with 10 outputs (for CIFAR-10 classes)."
   ]
  },
  {
   "cell_type": "markdown",
   "metadata": {},
   "source": [
    "##### Model Design Decision Process\n",
    "\n",
    "Convolutional Layers: I chose 2 convolutional layers with 32 and 64 output channels, respectively, as they were able to extract meaningful features from the CIFAR-10 images.\n",
    "\n",
    "Batch Normalization: Added batch normalization after each convolutional layer to stabilize training and improve model performance.\n",
    "\n",
    "Max Pooling: Max pooling was added after each convolutional block to reduce the size of the feature maps, improving computational efficiency.\n",
    "\n",
    "Fully Connected Layers: I used 2 fully connected layers with 256 and 128 hidden nodes to enable the model to learn more abstract representations of the features extracted by the convolutional layers.\n",
    "\n",
    "ReLU Activation: Applied ReLU activations to introduce non-linearity after each layer (except for the output layer), allowing the model to learn complex patterns."
   ]
  },
  {
   "cell_type": "code",
   "execution_count": 67,
   "metadata": {},
   "outputs": [],
   "source": [
    "class FinalCNN(nn.Module):\n",
    "    def __init__(self):\n",
    "        super(FinalCNN, self).__init__()\n",
    "        self.conv1 = nn.Conv2d(3, 32, kernel_size=3, stride=1, padding=1)  # Conv Layer 1\n",
    "        self.bn1 = nn.BatchNorm2d(32)  # Batch Normalization Layer 1\n",
    "        self.relu1 = nn.ReLU()  # ReLU Activation Layer 1\n",
    "        self.pool1 = nn.MaxPool2d(kernel_size=2, stride=2)  # Max Pooling Layer 1\n",
    "        \n",
    "        self.conv2 = nn.Conv2d(32, 64, kernel_size=3, stride=1, padding=1)  # Conv Layer 2\n",
    "        self.bn2 = nn.BatchNorm2d(64)  # Batch Normalization Layer 2\n",
    "        self.relu2 = nn.ReLU()  # ReLU Activation Layer 2\n",
    "        self.pool2 = nn.MaxPool2d(kernel_size=2, stride=2)  # Max Pooling Layer 2\n",
    "        \n",
    "        self.fc1 = nn.Linear(64 * 8 * 8, 256)  # Fully Connected Layer 1\n",
    "        self.fc2 = nn.Linear(256, 128)  # Fully Connected Layer 2\n",
    "        self.fc3 = nn.Linear(128, 10)  # Output Layer\n",
    "\n",
    "    def forward(self, x):\n",
    "        x = self.pool1(self.relu1(self.bn1(self.conv1(x))))  # Convolution-BN-Activation-Pool Layer 1\n",
    "        x = self.pool2(self.relu2(self.bn2(self.conv2(x))))  # Convolution-BN-Activation-Pool Layer 2\n",
    "        x = x.view(-1, 64 * 8 * 8)  # Flatten the output from convolutional layers\n",
    "        x = F.relu(self.fc1(x))  # Fully connected layer 1 with ReLU activation\n",
    "        x = F.relu(self.fc2(x))  # Fully connected layer 2 with ReLU activation\n",
    "        x = self.fc3(x)  # Output layer (no activation, CrossEntropyLoss handles softmax)\n",
    "        return x"
   ]
  },
  {
   "cell_type": "code",
   "execution_count": 69,
   "metadata": {},
   "outputs": [],
   "source": [
    "# Instantiate and train the model\n",
    "model_final = FinalCNN()"
   ]
  },
  {
   "cell_type": "code",
   "execution_count": 71,
   "metadata": {},
   "outputs": [],
   "source": [
    "# Define loss function and optimizer\n",
    "criterion = nn.CrossEntropyLoss()\n",
    "optimizer = optim.Adam(model_final.parameters(), lr=0.001)"
   ]
  },
  {
   "cell_type": "code",
   "execution_count": 73,
   "metadata": {},
   "outputs": [
    {
     "name": "stdout",
     "output_type": "stream",
     "text": [
      "Epoch  1,  Training Loss:   97.1763, Training Accuracy:     54.91,  Val Accuracy:   51.38\n",
      "Epoch  2,  Training Loss:   73.0110, Training Accuracy:     65.97,  Val Accuracy:   60.48\n",
      "Epoch  3,  Training Loss:   60.7075, Training Accuracy:     70.83,  Val Accuracy:   61.26\n",
      "Epoch  4,  Training Loss:   50.2596, Training Accuracy:     80.55,  Val Accuracy:   64.56\n",
      "Epoch  5,  Training Loss:   40.0914, Training Accuracy:     84.65,  Val Accuracy:   63.94\n",
      "Epoch  6,  Training Loss:   30.1092, Training Accuracy:     89.48,  Val Accuracy:   64.10\n",
      "Epoch  7,  Training Loss:   21.1245, Training Accuracy:     88.97,  Val Accuracy:   63.06\n",
      "Epoch  8,  Training Loss:   14.9911, Training Accuracy:     95.36,  Val Accuracy:   64.22\n",
      "Epoch  9,  Training Loss:    9.5266, Training Accuracy:     95.33,  Val Accuracy:   62.14\n",
      "Epoch 10,  Training Loss:    7.3607, Training Accuracy:     97.75,  Val Accuracy:   63.98\n",
      "Elapsed Time :  142.73\n"
     ]
    }
   ],
   "source": [
    "# Train the model\n",
    "train_loss_log, train_acc_log, test_acc_log = train_model(model_final, criterion, num_epochs=10, \n",
    "                                                          optimizer=optimizer, train_loader=train_loader, val_loader=val_loader)"
   ]
  },
  {
   "cell_type": "code",
   "execution_count": 75,
   "metadata": {},
   "outputs": [
    {
     "name": "stdout",
     "output_type": "stream",
     "text": [
      "Test Accuracy: 65.62%\n"
     ]
    }
   ],
   "source": [
    "# Evaluate on test set\n",
    "test_accuracy = calculate_accuracy(test_loader, model_final)\n",
    "print(f\"Test Accuracy: {test_accuracy:.2f}%\")"
   ]
  },
  {
   "cell_type": "markdown",
   "metadata": {
    "id": "hNVvm0flPEyk"
   },
   "source": []
  },
  {
   "cell_type": "markdown",
   "metadata": {
    "id": "0nAGJphdNbih"
   },
   "source": [
    "### Data Augmentation"
   ]
  },
  {
   "cell_type": "code",
   "execution_count": 89,
   "metadata": {},
   "outputs": [
    {
     "name": "stdout",
     "output_type": "stream",
     "text": [
      "Files already downloaded and verified\n",
      "Files already downloaded and verified\n",
      "Files already downloaded and verified\n"
     ]
    }
   ],
   "source": [
    "import torchvision.transforms as transforms\n",
    "from torch.utils.data import DataLoader\n",
    "\n",
    "# Define the data augmentation transformations\n",
    "data_transforms = transforms.Compose([\n",
    "    transforms.RandomHorizontalFlip(),  # Randomly flip images horizontally\n",
    "    transforms.RandomRotation(15),      # Randomly rotate images by up to 15 degrees\n",
    "    transforms.RandomCrop(32, padding=4),  # Randomly crop images with padding\n",
    "    transforms.ToTensor(),              # Convert images to tensors\n",
    "    transforms.Normalize((0.5, 0.5, 0.5), (0.5, 0.5, 0.5))  # Normalize images\n",
    "])\n",
    "\n",
    "# Load the CIFAR-10 training dataset with data augmentation\n",
    "aug_train_dataset = torchvision.datasets.CIFAR10(root='./data', train=True, download=True, transform=data_transforms)\n",
    "aug_train_loader = DataLoader(aug_train_dataset, batch_size=64, shuffle=True)\n",
    "\n",
    "# Load the validation and test datasets without augmentation\n",
    "val_dataset = torchvision.datasets.CIFAR10(root='./data', train=False, download=True, transform=transforms.Compose([\n",
    "    transforms.ToTensor(),\n",
    "    transforms.Normalize((0.5, 0.5, 0.5), (0.5, 0.5, 0.5))\n",
    "]))\n",
    "val_loader = DataLoader(val_dataset, batch_size=64, shuffle=False)\n",
    "\n",
    "test_dataset = torchvision.datasets.CIFAR10(root='./data', train=False, download=True, transform=transforms.Compose([\n",
    "    transforms.ToTensor(),\n",
    "    transforms.Normalize((0.5, 0.5, 0.5), (0.5, 0.5, 0.5))\n",
    "]))\n",
    "test_loader = DataLoader(test_dataset, batch_size=64, shuffle=False)"
   ]
  },
  {
   "cell_type": "markdown",
   "metadata": {
    "id": "B9T0MmXm-XaV"
   },
   "source": [
    "Check if it is augmented as we intended (you don't need to change anything here)"
   ]
  },
  {
   "cell_type": "code",
   "execution_count": 97,
   "metadata": {
    "colab": {
     "base_uri": "https://localhost:8080/",
     "height": 209
    },
    "id": "AKB1A1sQ-rKV",
    "outputId": "30840839-8022-4c86-ffec-7256a88e0765"
   },
   "outputs": [
    {
     "data": {
      "image/png": "[encoded data removed]",
      "text/plain": [
       "<Figure size 640x480 with 1 Axes>"
      ]
     },
     "metadata": {},
     "output_type": "display_data"
    },
    {
     "name": "stdout",
     "output_type": "stream",
     "text": [
      "dog car horse deer truck cat frog bird cat deer\n"
     ]
    }
   ],
   "source": [
    "# Function to show an image\n",
    "def imshow(img):\n",
    "    img = img / 2 + 0.5  # unnormalize\n",
    "    npimg = img.numpy()\n",
    "    plt.imshow(np.transpose(npimg, (1, 2, 0)))\n",
    "    plt.show()\n",
    "\n",
    "# Get some random training images\n",
    "aug_dataiter = iter(aug_train_loader) # Give the right name for the augmented dataset\n",
    "images, labels = next(aug_dataiter)\n",
    "\n",
    "# Classes in CIFAR10\n",
    "classes = ('plane', 'car', 'bird', 'cat',\n",
    "           'deer', 'dog', 'frog', 'horse', 'ship', 'truck')\n",
    "\n",
    "# Show images and labels\n",
    "imshow(torchvision.utils.make_grid(images[:10]))  # Show first 10 images\n",
    "print(' '.join(f'{classes[labels[j]]}' for j in range(10)))"
   ]
  },
  {
   "cell_type": "code",
   "execution_count": 93,
   "metadata": {},
   "outputs": [
    {
     "name": "stdout",
     "output_type": "stream",
     "text": [
      "Epoch  1,  Training Loss:   97.4657, Training Accuracy:     52.98,  Val Accuracy:   56.31\n",
      "Epoch  2,  Training Loss:   79.7197, Training Accuracy:     58.92,  Val Accuracy:   63.09\n",
      "Epoch  3,  Training Loss:   71.6153, Training Accuracy:     62.89,  Val Accuracy:   66.06\n",
      "Epoch  4,  Training Loss:   66.7008, Training Accuracy:     63.06,  Val Accuracy:   66.49\n",
      "Epoch  5,  Training Loss:   62.8064, Training Accuracy:     65.22,  Val Accuracy:   70.02\n",
      "Epoch  6,  Training Loss:   60.0484, Training Accuracy:     67.33,  Val Accuracy:   71.13\n",
      "Epoch  7,  Training Loss:   57.7057, Training Accuracy:     68.75,  Val Accuracy:   71.36\n",
      "Epoch  8,  Training Loss:   56.2649, Training Accuracy:     68.04,  Val Accuracy:   69.84\n",
      "Epoch  9,  Training Loss:   54.5924, Training Accuracy:     70.90,  Val Accuracy:   72.90\n",
      "Epoch 10,  Training Loss:   53.6282, Training Accuracy:     72.18,  Val Accuracy:   74.61\n",
      "Epoch 11,  Training Loss:   52.0967, Training Accuracy:     71.51,  Val Accuracy:   73.17\n",
      "Epoch 12,  Training Loss:   51.3418, Training Accuracy:     72.16,  Val Accuracy:   74.38\n",
      "Epoch 13,  Training Loss:   50.6104, Training Accuracy:     72.96,  Val Accuracy:   74.68\n",
      "Epoch 14,  Training Loss:   49.5912, Training Accuracy:     72.95,  Val Accuracy:   75.55\n",
      "Epoch 15,  Training Loss:   48.6065, Training Accuracy:     74.30,  Val Accuracy:   76.05\n",
      "Epoch 16,  Training Loss:   48.0963, Training Accuracy:     74.05,  Val Accuracy:   76.86\n",
      "Epoch 17,  Training Loss:   47.6106, Training Accuracy:     73.42,  Val Accuracy:   75.41\n",
      "Epoch 18,  Training Loss:   46.6911, Training Accuracy:     75.33,  Val Accuracy:   77.13\n",
      "Epoch 19,  Training Loss:   46.5246, Training Accuracy:     74.95,  Val Accuracy:   76.19\n",
      "Epoch 20,  Training Loss:   45.9719, Training Accuracy:     74.91,  Val Accuracy:   76.86\n",
      "Elapsed Time : 1081.42\n"
     ]
    }
   ],
   "source": [
    "# Define the model again \n",
    "model_5 = FinalCNN() \n",
    "\n",
    "# Define optimizer and loss function\n",
    "optimizer = torch.optim.Adam(model_5.parameters(), lr=0.001)\n",
    "loss_func = nn.CrossEntropyLoss()\n",
    "\n",
    "# Train the model for 20 epochs with augmented data\n",
    "train_loss_log, train_acc_log, val_acc_log = train_model(model_5, loss_func, num_epochs=20, optimizer=optimizer, \n",
    "                                                         train_loader=aug_train_loader, val_loader=val_loader)\n"
   ]
  },
  {
   "cell_type": "code",
   "execution_count": 95,
   "metadata": {},
   "outputs": [
    {
     "name": "stdout",
     "output_type": "stream",
     "text": [
      "Test Accuracy after data augmentation: 76.86%\n"
     ]
    }
   ],
   "source": [
    "# Evaluate on the test set (after training is done)\n",
    "test_accuracy = calculate_accuracy(test_loader, model_5)\n",
    "print(f\"Test Accuracy after data augmentation: {test_accuracy:.2f}%\")"
   ]
  },
  {
   "cell_type": "markdown",
   "metadata": {
    "id": "GlIGX-pgEH9q"
   },
   "source": [
    "##### Model Description and Data Augmentation Techniques:\n",
    "For this project, I started with the fully connected neural network (FCNN) model and applied data augmentation to the training dataset to enhance the model's performance. The goal was to observe how augmenting the training data influences the model's generalization ability, especially on the test set.\n",
    "\n",
    "To build a larger and more diverse training dataset, I applied the following three data augmentation techniques:\n",
    "\n",
    "Random Horizontal Flip: This technique randomly flips images horizontally. This helps the model generalize better by introducing variations of the same image in different orientations, which mimics how humans can recognize objects from different angles.\n",
    "\n",
    "Random Rotation: I randomly rotated the images by up to 15 degrees. This ensures that the model can learn to recognize objects regardless of their orientation, which is useful for tasks where objects may appear at various angles.\n",
    "\n",
    "Random Crop with Padding: This technique randomly crops the images to a smaller size (32x32) and pads them with a margin of 4 pixels. It helps the model to be more invariant to the precise position of the object within the image and introduces slight variations in the input images.\n",
    "\n",
    "Additionally, I applied the ToTensor transformation to convert images to tensor format and Normalization to scale pixel values to a range of -1 to 1, which is generally beneficial for the model's convergence during training."
   ]
  },
  {
   "cell_type": "markdown",
   "metadata": {},
   "source": [
    "Training Process and Model Evaluation:\n",
    "After applying the above data augmentation techniques, I retrained the model for 20 epochs using the augmented dataset. \n",
    "The model was trained using the Adam optimizer with a learning rate of 0.001, and the loss function used was CrossEntropyLoss.\n",
    "\n",
    "After training, I evaluated the model on the test set (which was not augmented) and obtained the following results:\n",
    "\n",
    "Test Accuracy after Data Augmentation: 76.86%\n",
    "\n",
    "This is a significant improvement compared to the previous model, which achieved a test accuracy of 65.86% when trained on the original dataset without augmentation."
   ]
  },
  {
   "cell_type": "markdown",
   "metadata": {},
   "source": [
    "In conclusion, applying data augmentation techniques significantly improved the performance of the model. The test accuracy increased by 11 percentage points, demonstrating that data augmentation is an effective strategy for enhancing the model's generalization ability and reducing overfitting. The improved performance suggests that augmenting the training dataset with transformations such as flipping, rotating, and cropping can help build more robust image classification models."
   ]
  },
  {
   "cell_type": "code",
   "execution_count": null,
   "metadata": {},
   "outputs": [],
   "source": []
  }
 ],
 "metadata": {
  "accelerator": "GPU",
  "colab": {
   "gpuType": "T4",
   "provenance": []
  },
  "kernelspec": {
   "display_name": "Python 3 (ipykernel)",
   "language": "python",
   "name": "python3"
  },
  "language_info": {
   "codemirror_mode": {
    "name": "ipython",
    "version": 3
   },
   "file_extension": ".py",
   "mimetype": "text/x-python",
   "name": "python",
   "nbconvert_exporter": "python",
   "pygments_lexer": "ipython3",
   "version": "3.12.4"
  }
 },
 "nbformat": 4,
 "nbformat_minor": 4
}
